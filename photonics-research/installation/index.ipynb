{
 "cells": [
  {
   "cell_type": "markdown",
   "metadata": {},
   "source": [
    "<h1>Installation</h1>"
   ]
  },
  {
   "cell_type": "markdown",
   "metadata": {},
   "source": [
    "<h3>1. install python 3.11 or 3.12</h3>\n",
    "\n",
    "windows - https://www.python.org/downloads/windows/\n",
    "\n",
    "mac - https://www.python.org/downloads/macos/"
   ]
  },
  {
   "cell_type": "markdown",
   "metadata": {},
   "source": []
  },
  {
   "cell_type": "markdown",
   "metadata": {},
   "source": [
    "<hr>"
   ]
  },
  {
   "cell_type": "markdown",
   "metadata": {},
   "source": [
    "<h3>2. install vscode</h3>\n",
    "\n",
    "windows - https://code.visualstudio.com/docs/setup/windows\n",
    "\n",
    "mac - https://code.visualstudio.com/docs/setup/mac"
   ]
  },
  {
   "cell_type": "markdown",
   "metadata": {},
   "source": [
    "<hr>"
   ]
  },
  {
   "cell_type": "markdown",
   "metadata": {},
   "source": [
    "<h3>3. create new clean directory</h3>\n",
    "\n",
    "1. create new directory folder\n",
    "2. open vscode\n",
    "3. open newly created folder directory\n",
    "4. this directory is your project's root directory (redo these steps for new project)\n",
    "\n",
    "- preferrably use \"-\" instead of space or \"_\" for directory name\n",
    "- ex : \"new-project\" instead of \"new project\" or \"new_project\""
   ]
  },
  {
   "cell_type": "markdown",
   "metadata": {},
   "source": [
    "<hr>"
   ]
  },
  {
   "cell_type": "markdown",
   "metadata": {},
   "source": [
    "<h3>4. install jupyter</h3>\n",
    "\n",
    "1. make sure you opened root directory folder (from previous step) in vscode\n",
    "2. open vscode's terminal\n",
    "3. input the following command in vscode terminal to install jupyter"
   ]
  },
  {
   "cell_type": "code",
   "execution_count": null,
   "metadata": {
    "vscode": {
     "languageId": "plaintext"
    }
   },
   "outputs": [],
   "source": [
    "pip install notebook"
   ]
  },
  {
   "cell_type": "markdown",
   "metadata": {},
   "source": [
    "OR"
   ]
  },
  {
   "cell_type": "code",
   "execution_count": null,
   "metadata": {
    "vscode": {
     "languageId": "plaintext"
    }
   },
   "outputs": [],
   "source": [
    "pip install jupyterlab"
   ]
  },
  {
   "cell_type": "markdown",
   "metadata": {},
   "source": [
    "<h4>4.5 jupyter vscode support</h4>\n",
    "\n",
    "1. open \"Extensions\" tab in vscode\n",
    "2. search for \"jupyter\" in search bar\n",
    "3. install \"Jupyter\" by \"Microsoft\""
   ]
  },
  {
   "cell_type": "markdown",
   "metadata": {},
   "source": [
    "<h4>to use jupyter in vscode</h4>\n",
    "\n",
    "1. create new file named \"xxx.ipynb\" (ex: \"index.ipynb\")\n",
    "2. in new .ipynb file, use \"+ Code\" to add code, use \"+ Markdown\" to add markdown\n",
    "\n",
    "- .ipynb (jupyter) files are simply text/media editor and code/program compiler in a single file. imagine it as writing document in Ms. Word and writing program in VSCode both in one file.\n",
    "- when you compile .ipynb files, \"Code\" are compiled but \"Markdown\" isn't."
   ]
  },
  {
   "cell_type": "markdown",
   "metadata": {},
   "source": [
    "<hr>"
   ]
  },
  {
   "cell_type": "markdown",
   "metadata": {},
   "source": [
    "<h3>5. install gdsfactory</h3>\n",
    "\n",
    "1. make sure you opened root directory folder (from previous step) in vscode\n",
    "2. open vscode's terminal\n",
    "3. input the following command in vscode terminal to install GDSFactory\n",
    "4. follow the instructions in vscode terminal"
   ]
  },
  {
   "cell_type": "code",
   "execution_count": null,
   "metadata": {
    "vscode": {
     "languageId": "plaintext"
    }
   },
   "outputs": [],
   "source": [
    "pip install gdsfactory --upgrade"
   ]
  },
  {
   "cell_type": "markdown",
   "metadata": {},
   "source": [
    "<hr>"
   ]
  },
  {
   "cell_type": "markdown",
   "metadata": {},
   "source": [
    "<h3>6. install klayout</h3>\n",
    "\n",
    "windows - https://www.klayout.org/downloads/Windows/klayout-0.29.11-win64-install.exe\n",
    "\n",
    "macos - https://www.klayout.org/downloads/MacOS/ST-klayout-0.29.11-macOS-Sonoma-1-qt5MP-RsysPsys.dmg\n",
    "\n",
    "choose one version most compatible with your system\n"
   ]
  }
 ],
 "metadata": {
  "kernelspec": {
   "display_name": "base",
   "language": "python",
   "name": "python3"
  },
  "language_info": {
   "codemirror_mode": {
    "name": "ipython",
    "version": 3
   },
   "file_extension": ".py",
   "mimetype": "text/x-python",
   "name": "python",
   "nbconvert_exporter": "python",
   "pygments_lexer": "ipython3",
   "version": "3.12.7"
  }
 },
 "nbformat": 4,
 "nbformat_minor": 2
}
