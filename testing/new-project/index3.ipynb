{
 "cells": [
  {
   "cell_type": "code",
   "execution_count": null,
   "metadata": {},
   "outputs": [],
   "source": [
    "# this is a code inside .ipynb file.\n",
    "import gdsfactory as gf\n",
    "c = gf.components.straight(length=10, npoints=2, cross_section='strip').copy()\n",
    "c.draw_ports()\n",
    "c.plot()\n",
    "# run this index.ipynb and see what happens."
   ]
  }
 ],
 "metadata": {
  "language_info": {
   "name": "python"
  }
 },
 "nbformat": 4,
 "nbformat_minor": 2
}
